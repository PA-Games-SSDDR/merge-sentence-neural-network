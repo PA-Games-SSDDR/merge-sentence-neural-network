{
 "cells": [
  {
   "cell_type": "code",
   "execution_count": 1,
   "id": "d74920bb",
   "metadata": {
    "_cell_guid": "b1076dfc-b9ad-4769-8c92-a6c4dae69d19",
    "_uuid": "8f2839f25d086af736a60e9eeb907d3b93b6e0e5",
    "execution": {
     "iopub.execute_input": "2023-12-04T17:50:30.091882Z",
     "iopub.status.busy": "2023-12-04T17:50:30.091464Z",
     "iopub.status.idle": "2023-12-04T17:50:30.833657Z",
     "shell.execute_reply": "2023-12-04T17:50:30.832662Z"
    },
    "papermill": {
     "duration": 0.753234,
     "end_time": "2023-12-04T17:50:30.836060",
     "exception": false,
     "start_time": "2023-12-04T17:50:30.082826",
     "status": "completed"
    },
    "tags": []
   },
   "outputs": [],
   "source": [
    "# This Python 3 environment comes with many helpful analytics libraries installed\n",
    "# It is defined by the kaggle/python Docker image: https://github.com/kaggle/docker-python\n",
    "# For example, here's several helpful packages to load\n",
    "\n",
    "import numpy as np # linear algebra\n",
    "import pandas as pd # data processing, CSV file I/O (e.g. pd.read_csv)\n",
    "\n",
    "# Input data files are available in the read-only \"../input/\" directory\n",
    "# For example, running this (by clicking run or pressing Shift+Enter) will list all files under the input directory\n",
    "\n",
    "import os\n",
    "# for dirname, _, filenames in os.walk('/kaggle/input'):\n",
    "#     for filename in filenames:\n",
    "#         print(os.path.join(dirname, filename))\n",
    "\n",
    "# You can write up to 20GB to the current directory (/kaggle/working/) that gets preserved as output when you create a version using \"Save & Run All\" \n",
    "# You can also write temporary files to /kaggle/temp/, but they won't be saved outside of the current session"
   ]
  },
  {
   "cell_type": "code",
   "execution_count": 2,
   "id": "f2adcae6",
   "metadata": {
    "execution": {
     "iopub.execute_input": "2023-12-04T17:50:30.850961Z",
     "iopub.status.busy": "2023-12-04T17:50:30.850498Z",
     "iopub.status.idle": "2023-12-04T17:50:42.329911Z",
     "shell.execute_reply": "2023-12-04T17:50:42.328879Z"
    },
    "papermill": {
     "duration": 11.489479,
     "end_time": "2023-12-04T17:50:42.332387",
     "exception": false,
     "start_time": "2023-12-04T17:50:30.842908",
     "status": "completed"
    },
    "tags": []
   },
   "outputs": [
    {
     "name": "stderr",
     "output_type": "stream",
     "text": [
      "/opt/conda/lib/python3.10/site-packages/scipy/__init__.py:146: UserWarning: A NumPy version >=1.16.5 and <1.23.0 is required for this version of SciPy (detected version 1.24.3\n",
      "  warnings.warn(f\"A NumPy version >={np_minversion} and <{np_maxversion}\"\n"
     ]
    }
   ],
   "source": [
    "import tensorflow as tf\n",
    "from tensorflow.keras.layers import Input, Embedding, LSTM, Dense, Lambda, RepeatVector, TimeDistributed\n",
    "from tensorflow.keras.layers import Concatenate\n",
    "from tensorflow.keras.models import Model\n",
    "import tensorflow.keras as keras\n",
    "from keras.preprocessing.text import Tokenizer\n",
    "from tensorflow.keras.utils import pad_sequences\n",
    "import string"
   ]
  },
  {
   "cell_type": "markdown",
   "id": "de10d528",
   "metadata": {
    "papermill": {
     "duration": 0.006429,
     "end_time": "2023-12-04T17:50:42.345661",
     "exception": false,
     "start_time": "2023-12-04T17:50:42.339232",
     "status": "completed"
    },
    "tags": []
   },
   "source": [
    "# Process and load the dataset"
   ]
  },
  {
   "cell_type": "code",
   "execution_count": 3,
   "id": "377fa045",
   "metadata": {
    "execution": {
     "iopub.execute_input": "2023-12-04T17:50:42.361202Z",
     "iopub.status.busy": "2023-12-04T17:50:42.360146Z",
     "iopub.status.idle": "2023-12-04T17:51:46.155694Z",
     "shell.execute_reply": "2023-12-04T17:51:46.154833Z"
    },
    "papermill": {
     "duration": 63.805659,
     "end_time": "2023-12-04T17:51:46.158193",
     "exception": false,
     "start_time": "2023-12-04T17:50:42.352534",
     "status": "completed"
    },
    "tags": []
   },
   "outputs": [],
   "source": [
    "df = pd.read_csv(\"/kaggle/input/unveiling-complex-text-relations-through-splitti/train.csv\")\n",
    "# test_df = pd.read_csv(\"/kaggle/input/unveiling-complex-text-relations-through-splitti/test.csv\")\n",
    "# cleanse data of punctuation\n",
    "df['complex_sentence'] = df['complex_sentence'].apply(lambda x:''.join([i for i in x if i not in string.punctuation]))\n",
    "df['simple_sentence_1'] = df['simple_sentence_1'].apply(lambda x:''.join([i for i in x if i not in string.punctuation]))\n",
    "df['simple_sentence_2'] = df['simple_sentence_2'].apply(lambda x:''.join([i for i in x if i not in string.punctuation]))"
   ]
  },
  {
   "cell_type": "code",
   "execution_count": 4,
   "id": "8e8171f1",
   "metadata": {
    "execution": {
     "iopub.execute_input": "2023-12-04T17:51:46.173208Z",
     "iopub.status.busy": "2023-12-04T17:51:46.172889Z",
     "iopub.status.idle": "2023-12-04T17:51:50.618378Z",
     "shell.execute_reply": "2023-12-04T17:51:50.617561Z"
    },
    "papermill": {
     "duration": 4.455521,
     "end_time": "2023-12-04T17:51:50.620792",
     "exception": false,
     "start_time": "2023-12-04T17:51:46.165271",
     "status": "completed"
    },
    "tags": []
   },
   "outputs": [],
   "source": [
    "complex_list = df['complex_sentence'].values.tolist()\n",
    "simpl_sent1_list = df['simple_sentence_1'].values.tolist()\n",
    "simpl_sent2_list = df['simple_sentence_2'].values.tolist()\n",
    "max_len_complex = max([len(x.split(\" \")) for x in complex_list])\n",
    "max_len_simpl_sent1 = max([len(x.split(\" \")) for x in simpl_sent1_list])\n",
    "max_len_simpl_sent2 = max([len(x.split(\" \")) for x in simpl_sent2_list])\n",
    "max_tok_size = max(max_len_complex, max(max_len_simpl_sent1, max_len_simpl_sent2))"
   ]
  },
  {
   "cell_type": "code",
   "execution_count": 5,
   "id": "d0ce0c9b",
   "metadata": {
    "execution": {
     "iopub.execute_input": "2023-12-04T17:51:50.635570Z",
     "iopub.status.busy": "2023-12-04T17:51:50.635268Z",
     "iopub.status.idle": "2023-12-04T17:52:47.567139Z",
     "shell.execute_reply": "2023-12-04T17:52:47.565974Z"
    },
    "papermill": {
     "duration": 56.941765,
     "end_time": "2023-12-04T17:52:47.569759",
     "exception": false,
     "start_time": "2023-12-04T17:51:50.627994",
     "status": "completed"
    },
    "tags": []
   },
   "outputs": [],
   "source": [
    "new_list = [complex_list[i] + \" \" + simpl_sent1_list[i] + \" \" + simpl_sent2_list[i] for i in range(len(complex_list))]\n",
    "fit_text = new_list\n",
    "tokenizer = Tokenizer()\n",
    "tokenizer.fit_on_texts(fit_text)"
   ]
  },
  {
   "cell_type": "code",
   "execution_count": 6,
   "id": "8d41825b",
   "metadata": {
    "execution": {
     "iopub.execute_input": "2023-12-04T17:52:47.584461Z",
     "iopub.status.busy": "2023-12-04T17:52:47.584133Z",
     "iopub.status.idle": "2023-12-04T17:52:47.593886Z",
     "shell.execute_reply": "2023-12-04T17:52:47.592996Z"
    },
    "papermill": {
     "duration": 0.01918,
     "end_time": "2023-12-04T17:52:47.595910",
     "exception": false,
     "start_time": "2023-12-04T17:52:47.576730",
     "status": "completed"
    },
    "tags": []
   },
   "outputs": [],
   "source": [
    "# Define the Siamese neural network architecture\n",
    "def create_siamese_network(max_sequence_length, embedding_dim, tokenizer_len):\n",
    "    # Input layer for the first sentence\n",
    "    input_a = Input(shape=(max_sequence_length,1), name='input_a')\n",
    "    \n",
    "    # Input layer for the second sentence\n",
    "    input_b = Input(shape=(max_sequence_length,1), name='input_b')\n",
    "    \n",
    "    # Shared embedding layer\n",
    "    vocabulary_size = tokenizer_len\n",
    "    # embedding_layer = Embedding(input_dim=vocabulary_size, output_dim=embedding_dim)\n",
    "    \n",
    "    # Shared LSTM layer\n",
    "    # lstm_layer = LSTM(128)\n",
    "    \n",
    "    # Apply embedding layer to both inputs\n",
    "    # encoded_a = embedding_layer(input_a)\n",
    "    # encoded_b = embedding_layer(input_b)\n",
    "    \n",
    "    # Encoder part\n",
    "    encoder_a = LSTM(64, activation='relu')(input_a)\n",
    "    encoder_b = LSTM(64, activation='relu')(input_b)\n",
    "    \n",
    "    # Merge the two encoded representations using a distance function (e.g., Euclidean or Manhattan)\n",
    "    # merged_layer = tf.keras.layers.Lambda(lambda x: tf.keras.backend.abs(x[0] - x[1]))([encoded_a, encoded_b])\n",
    "    merged_layer = Concatenate(axis=1, name='encoder_ab_output')([encoder_a,encoder_b])\n",
    "    \n",
    "    # Decoder part\n",
    "    decoder1 = RepeatVector(max_sequence_length)(merged_layer)\n",
    "    decoder1 = LSTM(max_sequence_length, activation='relu', return_sequences=True)(decoder1)\n",
    "    output_layer = TimeDistributed(Dense(1))(decoder1)\n",
    "    # Dense layer for the final similarity prediction\n",
    "    # output_layer = Dense(1, activation='sigmoid')(merged_layer)\n",
    "    \n",
    "    # Create the Siamese style autoencoder model\n",
    "    siamese_model = Model(inputs=[input_a, input_b], outputs=output_layer)\n",
    "    \n",
    "    siamese_model.compile(loss='mse', optimizer='adam')\n",
    "    print(siamese_model.summary())\n",
    "    return siamese_model"
   ]
  },
  {
   "cell_type": "code",
   "execution_count": 7,
   "id": "8252891d",
   "metadata": {
    "execution": {
     "iopub.execute_input": "2023-12-04T17:52:47.609897Z",
     "iopub.status.busy": "2023-12-04T17:52:47.609614Z",
     "iopub.status.idle": "2023-12-04T17:52:50.942917Z",
     "shell.execute_reply": "2023-12-04T17:52:50.941092Z"
    },
    "papermill": {
     "duration": 3.34802,
     "end_time": "2023-12-04T17:52:50.950315",
     "exception": false,
     "start_time": "2023-12-04T17:52:47.602295",
     "status": "completed"
    },
    "tags": []
   },
   "outputs": [
    {
     "name": "stdout",
     "output_type": "stream",
     "text": [
      "Model: \"model\"\n",
      "__________________________________________________________________________________________________\n",
      " Layer (type)                Output Shape                 Param #   Connected to                  \n",
      "==================================================================================================\n",
      " input_a (InputLayer)        [(None, 51, 1)]              0         []                            \n",
      "                                                                                                  \n",
      " input_b (InputLayer)        [(None, 51, 1)]              0         []                            \n",
      "                                                                                                  \n",
      " lstm (LSTM)                 (None, 64)                   16896     ['input_a[0][0]']             \n",
      "                                                                                                  \n",
      " lstm_1 (LSTM)               (None, 64)                   16896     ['input_b[0][0]']             \n",
      "                                                                                                  \n",
      " encoder_ab_output (Concate  (None, 128)                  0         ['lstm[0][0]',                \n",
      " nate)                                                               'lstm_1[0][0]']              \n",
      "                                                                                                  \n",
      " repeat_vector (RepeatVecto  (None, 51, 128)              0         ['encoder_ab_output[0][0]']   \n",
      " r)                                                                                               \n",
      "                                                                                                  \n",
      " lstm_2 (LSTM)               (None, 51, 51)               36720     ['repeat_vector[0][0]']       \n",
      "                                                                                                  \n",
      " time_distributed (TimeDist  (None, 51, 1)                52        ['lstm_2[0][0]']              \n",
      " ributed)                                                                                         \n",
      "                                                                                                  \n",
      "==================================================================================================\n",
      "Total params: 70564 (275.64 KB)\n",
      "Trainable params: 70564 (275.64 KB)\n",
      "Non-trainable params: 0 (0.00 Byte)\n",
      "__________________________________________________________________________________________________\n",
      "None\n"
     ]
    }
   ],
   "source": [
    "siamese_model = create_siamese_network(max_tok_size, embedding_dim=100, tokenizer_len=len(tokenizer.word_index))"
   ]
  },
  {
   "cell_type": "code",
   "execution_count": 8,
   "id": "8d465018",
   "metadata": {
    "execution": {
     "iopub.execute_input": "2023-12-04T17:52:50.968881Z",
     "iopub.status.busy": "2023-12-04T17:52:50.968602Z",
     "iopub.status.idle": "2023-12-04T17:53:59.437066Z",
     "shell.execute_reply": "2023-12-04T17:53:59.436082Z"
    },
    "papermill": {
     "duration": 68.480557,
     "end_time": "2023-12-04T17:53:59.439653",
     "exception": false,
     "start_time": "2023-12-04T17:52:50.959096",
     "status": "completed"
    },
    "tags": []
   },
   "outputs": [],
   "source": [
    "tok_complex_list = tokenizer.texts_to_sequences(complex_list)\n",
    "tok_simpl_sent1_list = tokenizer.texts_to_sequences(simpl_sent1_list)\n",
    "tok_simpl_sent2_list = tokenizer.texts_to_sequences(simpl_sent2_list)"
   ]
  },
  {
   "cell_type": "code",
   "execution_count": 9,
   "id": "75d31e80",
   "metadata": {
    "execution": {
     "iopub.execute_input": "2023-12-04T17:53:59.459400Z",
     "iopub.status.busy": "2023-12-04T17:53:59.459101Z",
     "iopub.status.idle": "2023-12-04T17:54:14.550284Z",
     "shell.execute_reply": "2023-12-04T17:54:14.548854Z"
    },
    "papermill": {
     "duration": 15.1038,
     "end_time": "2023-12-04T17:54:14.553065",
     "exception": false,
     "start_time": "2023-12-04T17:53:59.449265",
     "status": "completed"
    },
    "tags": []
   },
   "outputs": [],
   "source": [
    "tok_complex_list = pad_sequences(tok_complex_list, maxlen=max_tok_size)\n",
    "tok_simpl_sent1_list = pad_sequences(tok_simpl_sent1_list, maxlen=max_tok_size)\n",
    "tok_simpl_sent2_list = pad_sequences(tok_simpl_sent2_list, maxlen=max_tok_size)"
   ]
  },
  {
   "cell_type": "code",
   "execution_count": 10,
   "id": "64cc66e8",
   "metadata": {
    "execution": {
     "iopub.execute_input": "2023-12-04T17:54:14.572322Z",
     "iopub.status.busy": "2023-12-04T17:54:14.571687Z",
     "iopub.status.idle": "2023-12-04T17:54:14.576111Z",
     "shell.execute_reply": "2023-12-04T17:54:14.575281Z"
    },
    "papermill": {
     "duration": 0.016465,
     "end_time": "2023-12-04T17:54:14.578584",
     "exception": false,
     "start_time": "2023-12-04T17:54:14.562119",
     "status": "completed"
    },
    "tags": []
   },
   "outputs": [
    {
     "name": "stdout",
     "output_type": "stream",
     "text": [
      "<class 'numpy.ndarray'>\n"
     ]
    }
   ],
   "source": [
    "print(type(tok_complex_list))"
   ]
  },
  {
   "cell_type": "code",
   "execution_count": 11,
   "id": "815e23ec",
   "metadata": {
    "execution": {
     "iopub.execute_input": "2023-12-04T17:54:14.597086Z",
     "iopub.status.busy": "2023-12-04T17:54:14.596787Z",
     "iopub.status.idle": "2023-12-04T17:54:14.602126Z",
     "shell.execute_reply": "2023-12-04T17:54:14.601279Z"
    },
    "papermill": {
     "duration": 0.017141,
     "end_time": "2023-12-04T17:54:14.604299",
     "exception": false,
     "start_time": "2023-12-04T17:54:14.587158",
     "status": "completed"
    },
    "tags": []
   },
   "outputs": [
    {
     "name": "stdout",
     "output_type": "stream",
     "text": [
      "598614\n",
      "598614\n",
      "[0.0, 0.0, 0.0, 0.0, 0.0, 0.0, 0.0, 0.0, 0.0, 0.0, 0.0, 1.83757813883404e-05, 4.009261393819724e-05, 0.017811143742044122, 3.1739986034406146e-05, 5.8468395326537636e-05, 0.0007433838834374071, 1.002315348454931e-05, 0.0004243134975125874, 4.009261393819724e-05, 0.002804812450093048, 1.002315348454931e-05, 0.0011342868693348302, 1.6705255807582181e-06, 0.008591513061839516, 0.04204211729094207, 6.6821023230328725e-06, 0.006130828881382661, 5.011576742274655e-06, 0.0003090472324402704, 3.3410511615164364e-05, 0.00015201782784899785, 0.02171182097311456, 1.002315348454931e-05, 1.6705255807582181e-06, 0.00022719147898311767, 5.011576742274655e-06, 0.0010741479484275343, 4.343366509971367e-05, 0.007465578820408477, 6.6821023230328725e-06, 0.0023387358130615055, 0.00041763139518955454, 1.002315348454931e-05, 7.35031255533616e-05, 0.019862549155215212, 0.019984497522610563, 5.011576742274655e-06, 6.849154881108694e-05, 0.009473550568479856, 0.002243515854958287]\n"
     ]
    }
   ],
   "source": [
    "print(len(tokenizer.index_word))\n",
    "print(len(tokenizer.index_word.keys()))\n",
    "print([x/len(tokenizer.index_word) for x in tok_complex_list[0]])"
   ]
  },
  {
   "cell_type": "code",
   "execution_count": 12,
   "id": "af06a3b3",
   "metadata": {
    "execution": {
     "iopub.execute_input": "2023-12-04T17:54:14.622838Z",
     "iopub.status.busy": "2023-12-04T17:54:14.622534Z",
     "iopub.status.idle": "2023-12-04T17:54:15.004984Z",
     "shell.execute_reply": "2023-12-04T17:54:15.004094Z"
    },
    "papermill": {
     "duration": 0.394345,
     "end_time": "2023-12-04T17:54:15.007381",
     "exception": false,
     "start_time": "2023-12-04T17:54:14.613036",
     "status": "completed"
    },
    "tags": []
   },
   "outputs": [],
   "source": [
    "tok_max = len(tokenizer.index_word)\n",
    "tok_complex_list = tok_complex_list/tok_max\n",
    "tok_simpl_sent1_list = tok_simpl_sent1_list/tok_max\n",
    "tok_simpl_sent2_list = tok_simpl_sent2_list/tok_max"
   ]
  },
  {
   "cell_type": "code",
   "execution_count": 13,
   "id": "96f2cca9",
   "metadata": {
    "execution": {
     "iopub.execute_input": "2023-12-04T17:54:15.027079Z",
     "iopub.status.busy": "2023-12-04T17:54:15.026762Z",
     "iopub.status.idle": "2023-12-04T17:54:15.031638Z",
     "shell.execute_reply": "2023-12-04T17:54:15.030767Z"
    },
    "papermill": {
     "duration": 0.016633,
     "end_time": "2023-12-04T17:54:15.033661",
     "exception": false,
     "start_time": "2023-12-04T17:54:15.017028",
     "status": "completed"
    },
    "tags": []
   },
   "outputs": [],
   "source": [
    "tok_complex_list = tok_complex_list.reshape(-1, tok_complex_list.shape[1], 1)\n",
    "tok_simpl_sent1_list = tok_simpl_sent1_list.reshape(-1, tok_simpl_sent1_list.shape[1], 1)\n",
    "tok_simpl_sent2_list = tok_simpl_sent2_list.reshape(-1, tok_simpl_sent2_list.shape[1], 1)"
   ]
  },
  {
   "cell_type": "code",
   "execution_count": 14,
   "id": "04d26dad",
   "metadata": {
    "execution": {
     "iopub.execute_input": "2023-12-04T17:54:15.052038Z",
     "iopub.status.busy": "2023-12-04T17:54:15.051784Z",
     "iopub.status.idle": "2023-12-04T17:54:15.056778Z",
     "shell.execute_reply": "2023-12-04T17:54:15.055936Z"
    },
    "papermill": {
     "duration": 0.016386,
     "end_time": "2023-12-04T17:54:15.058689",
     "exception": false,
     "start_time": "2023-12-04T17:54:15.042303",
     "status": "completed"
    },
    "tags": []
   },
   "outputs": [],
   "source": [
    "val_per = int(.8 * len(tok_complex_list))\n",
    "tot = len(tok_complex_list)\n",
    "tok_complex_list_train, tok_complex_list_test = tok_complex_list[:val_per], tok_complex_list[val_per:]\n",
    "tok_simpl_sent1_list_train, tok_simpl_sent1_list_test = tok_simpl_sent1_list[:val_per], tok_simpl_sent1_list[val_per:]\n",
    "tok_simpl_sent2_list_train, tok_simpl_sent2_list_test = tok_simpl_sent2_list[:val_per], tok_simpl_sent2_list[val_per:]"
   ]
  },
  {
   "cell_type": "code",
   "execution_count": 15,
   "id": "ae49e71d",
   "metadata": {
    "execution": {
     "iopub.execute_input": "2023-12-04T17:54:15.077250Z",
     "iopub.status.busy": "2023-12-04T17:54:15.077009Z",
     "iopub.status.idle": "2023-12-04T18:54:21.630351Z",
     "shell.execute_reply": "2023-12-04T18:54:21.629442Z"
    },
    "papermill": {
     "duration": 3608.20836,
     "end_time": "2023-12-04T18:54:23.275965",
     "exception": false,
     "start_time": "2023-12-04T17:54:15.067605",
     "status": "completed"
    },
    "tags": []
   },
   "outputs": [
    {
     "name": "stdout",
     "output_type": "stream",
     "text": [
      "19799/19799 [==============================] - 3605s 182ms/step - loss: 0.0084 - val_loss: 0.0040\n"
     ]
    },
    {
     "data": {
      "text/plain": [
       "<keras.src.callbacks.History at 0x7b508a799ae0>"
      ]
     },
     "execution_count": 15,
     "metadata": {},
     "output_type": "execute_result"
    }
   ],
   "source": [
    "siamese_model.fit([tok_simpl_sent1_list_train, tok_simpl_sent2_list_train], tok_complex_list_train, epochs=1, batch_size=32, validation_split=0.2)"
   ]
  },
  {
   "cell_type": "code",
   "execution_count": 16,
   "id": "c63ecfc0",
   "metadata": {
    "execution": {
     "iopub.execute_input": "2023-12-04T18:54:26.518112Z",
     "iopub.status.busy": "2023-12-04T18:54:26.517434Z",
     "iopub.status.idle": "2023-12-04T18:54:26.521739Z",
     "shell.execute_reply": "2023-12-04T18:54:26.520863Z"
    },
    "papermill": {
     "duration": 1.582346,
     "end_time": "2023-12-04T18:54:26.523878",
     "exception": false,
     "start_time": "2023-12-04T18:54:24.941532",
     "status": "completed"
    },
    "tags": []
   },
   "outputs": [],
   "source": [
    "# siamese_model.eval([tok_simpl_sent1_list_test, tok_simpl_sent2_list_test], tok_complex_list_test, batch_size=32)"
   ]
  },
  {
   "cell_type": "code",
   "execution_count": 17,
   "id": "eac9a741",
   "metadata": {
    "execution": {
     "iopub.execute_input": "2023-12-04T18:54:29.806994Z",
     "iopub.status.busy": "2023-12-04T18:54:29.806145Z",
     "iopub.status.idle": "2023-12-04T19:05:47.630695Z",
     "shell.execute_reply": "2023-12-04T19:05:47.629624Z"
    },
    "papermill": {
     "duration": 679.455333,
     "end_time": "2023-12-04T19:05:47.633211",
     "exception": false,
     "start_time": "2023-12-04T18:54:28.177878",
     "status": "completed"
    },
    "tags": []
   },
   "outputs": [
    {
     "name": "stdout",
     "output_type": "stream",
     "text": [
      "30936/30936 [==============================] - 656s 21ms/step\n"
     ]
    }
   ],
   "source": [
    "predictions = siamese_model.predict([tok_simpl_sent1_list, tok_simpl_sent2_list])"
   ]
  },
  {
   "cell_type": "code",
   "execution_count": 18,
   "id": "3ab6c029",
   "metadata": {
    "execution": {
     "iopub.execute_input": "2023-12-04T19:05:52.580080Z",
     "iopub.status.busy": "2023-12-04T19:05:52.579278Z",
     "iopub.status.idle": "2023-12-04T19:05:52.585947Z",
     "shell.execute_reply": "2023-12-04T19:05:52.584959Z"
    },
    "papermill": {
     "duration": 2.397985,
     "end_time": "2023-12-04T19:05:52.588087",
     "exception": false,
     "start_time": "2023-12-04T19:05:50.190102",
     "status": "completed"
    },
    "tags": []
   },
   "outputs": [
    {
     "name": "stdout",
     "output_type": "stream",
     "text": [
      "(989944, 51, 1)\n",
      "[[[ 0.00142158]\n",
      "  [-0.00136959]\n",
      "  [-0.0014879 ]\n",
      "  ...\n",
      "  [ 0.00382957]\n",
      "  [ 0.00347358]\n",
      "  [ 0.00312072]]\n",
      "\n",
      " [[ 0.00145989]\n",
      "  [-0.00132661]\n",
      "  [-0.00144749]\n",
      "  ...\n",
      "  [ 0.00397272]\n",
      "  [ 0.00361276]\n",
      "  [ 0.00325778]]\n",
      "\n",
      " [[ 0.00118401]\n",
      "  [-0.00165574]\n",
      "  [-0.00183484]\n",
      "  ...\n",
      "  [ 0.00206076]\n",
      "  [ 0.0017772 ]\n",
      "  [ 0.00149084]]\n",
      "\n",
      " ...\n",
      "\n",
      " [[ 0.00173203]\n",
      "  [-0.00099463]\n",
      "  [-0.00113886]\n",
      "  ...\n",
      "  [ 0.0037113 ]\n",
      "  [ 0.00336881]\n",
      "  [ 0.00304229]]\n",
      "\n",
      " [[ 0.00110889]\n",
      "  [-0.00200516]\n",
      "  [-0.00240583]\n",
      "  ...\n",
      "  [ 0.00387932]\n",
      "  [ 0.00348037]\n",
      "  [ 0.00309482]]\n",
      "\n",
      " [[ 0.00478513]\n",
      "  [ 0.00237383]\n",
      "  [ 0.00226031]\n",
      "  ...\n",
      "  [ 0.0073313 ]\n",
      "  [ 0.0073956 ]\n",
      "  [ 0.007451  ]]]\n"
     ]
    }
   ],
   "source": [
    "print(predictions.shape)\n",
    "print(predictions)"
   ]
  },
  {
   "cell_type": "code",
   "execution_count": 19,
   "id": "80bc7d6e",
   "metadata": {
    "execution": {
     "iopub.execute_input": "2023-12-04T19:05:57.771064Z",
     "iopub.status.busy": "2023-12-04T19:05:57.770093Z",
     "iopub.status.idle": "2023-12-04T19:05:57.852390Z",
     "shell.execute_reply": "2023-12-04T19:05:57.851451Z"
    },
    "papermill": {
     "duration": 2.700794,
     "end_time": "2023-12-04T19:05:57.854688",
     "exception": false,
     "start_time": "2023-12-04T19:05:55.153894",
     "status": "completed"
    },
    "tags": []
   },
   "outputs": [],
   "source": [
    "siamese_model.save('merge_sentence.keras')"
   ]
  },
  {
   "cell_type": "code",
   "execution_count": 20,
   "id": "1a12006c",
   "metadata": {
    "execution": {
     "iopub.execute_input": "2023-12-04T19:06:02.720634Z",
     "iopub.status.busy": "2023-12-04T19:06:02.719896Z",
     "iopub.status.idle": "2023-12-04T19:06:02.743853Z",
     "shell.execute_reply": "2023-12-04T19:06:02.743125Z"
    },
    "papermill": {
     "duration": 2.502133,
     "end_time": "2023-12-04T19:06:02.745894",
     "exception": false,
     "start_time": "2023-12-04T19:06:00.243761",
     "status": "completed"
    },
    "tags": []
   },
   "outputs": [],
   "source": [
    "from tensorflow.keras.models import Sequential, model_from_json\n",
    "from tensorflow.keras.models import model_from_json\n",
    "from tensorflow.keras.models import load_model\n",
    "\n",
    "# serialize model to JSON\n",
    "#  the keras model which is trained is defined as 'model' in this example\n",
    "model_json = siamese_model.to_json()\n",
    "\n",
    "\n",
    "with open(\"model_merge.json\", \"w\") as json_file:\n",
    "    json_file.write(model_json)\n",
    "\n",
    "# serialize weights to HDF5\n",
    "siamese_model.save_weights(\"model_merge.h5\")"
   ]
  },
  {
   "cell_type": "code",
   "execution_count": 21,
   "id": "1b6be3c0",
   "metadata": {
    "execution": {
     "iopub.execute_input": "2023-12-04T19:06:07.758591Z",
     "iopub.status.busy": "2023-12-04T19:06:07.757827Z",
     "iopub.status.idle": "2023-12-04T19:06:07.880999Z",
     "shell.execute_reply": "2023-12-04T19:06:07.880075Z"
    },
    "papermill": {
     "duration": 2.515113,
     "end_time": "2023-12-04T19:06:07.883373",
     "exception": false,
     "start_time": "2023-12-04T19:06:05.368260",
     "status": "completed"
    },
    "tags": []
   },
   "outputs": [],
   "source": [
    "predictions = predictions*tok_max"
   ]
  },
  {
   "cell_type": "code",
   "execution_count": 22,
   "id": "6cac877f",
   "metadata": {
    "execution": {
     "iopub.execute_input": "2023-12-04T19:06:12.880765Z",
     "iopub.status.busy": "2023-12-04T19:06:12.879902Z",
     "iopub.status.idle": "2023-12-04T19:06:43.773234Z",
     "shell.execute_reply": "2023-12-04T19:06:43.772249Z"
    },
    "papermill": {
     "duration": 33.438223,
     "end_time": "2023-12-04T19:06:43.775672",
     "exception": false,
     "start_time": "2023-12-04T19:06:10.337449",
     "status": "completed"
    },
    "tags": []
   },
   "outputs": [],
   "source": [
    "predictions = predictions.reshape(-1, predictions.shape[1])\n",
    "predictions = predictions.astype(np.int64)\n",
    "output_texts = tokenizer.sequences_to_texts(predictions)"
   ]
  },
  {
   "cell_type": "code",
   "execution_count": 23,
   "id": "a57e22fa",
   "metadata": {
    "execution": {
     "iopub.execute_input": "2023-12-04T19:06:48.648949Z",
     "iopub.status.busy": "2023-12-04T19:06:48.648586Z",
     "iopub.status.idle": "2023-12-04T19:06:49.031843Z",
     "shell.execute_reply": "2023-12-04T19:06:49.030834Z"
    },
    "papermill": {
     "duration": 2.852128,
     "end_time": "2023-12-04T19:06:49.034276",
     "exception": false,
     "start_time": "2023-12-04T19:06:46.182148",
     "status": "completed"
    },
    "tags": []
   },
   "outputs": [],
   "source": [
    "dicty = { \"sent1\": simpl_sent1_list, \"sent2\": simpl_sent2_list, \"predict\": output_texts}\n",
    "df_out = pd.DataFrame.from_dict(dicty)"
   ]
  },
  {
   "cell_type": "code",
   "execution_count": 24,
   "id": "319a44dd",
   "metadata": {
    "execution": {
     "iopub.execute_input": "2023-12-04T19:06:53.989311Z",
     "iopub.status.busy": "2023-12-04T19:06:53.988434Z",
     "iopub.status.idle": "2023-12-04T19:07:17.642435Z",
     "shell.execute_reply": "2023-12-04T19:07:17.641420Z"
    },
    "papermill": {
     "duration": 26.065385,
     "end_time": "2023-12-04T19:07:17.644878",
     "exception": false,
     "start_time": "2023-12-04T19:06:51.579493",
     "status": "completed"
    },
    "tags": []
   },
   "outputs": [],
   "source": [
    "df_out.to_csv(\"submission.csv\")"
   ]
  }
 ],
 "metadata": {
  "kaggle": {
   "accelerator": "gpu",
   "dataSources": [
    {
     "datasetId": 2695334,
     "sourceId": 4632840,
     "sourceType": "datasetVersion"
    }
   ],
   "dockerImageVersionId": 30587,
   "isGpuEnabled": true,
   "isInternetEnabled": true,
   "language": "python",
   "sourceType": "notebook"
  },
  "kernelspec": {
   "display_name": "Python 3",
   "language": "python",
   "name": "python3"
  },
  "language_info": {
   "codemirror_mode": {
    "name": "ipython",
    "version": 3
   },
   "file_extension": ".py",
   "mimetype": "text/x-python",
   "name": "python",
   "nbconvert_exporter": "python",
   "pygments_lexer": "ipython3",
   "version": "3.10.12"
  },
  "papermill": {
   "default_parameters": {},
   "duration": 4617.072503,
   "end_time": "2023-12-04T19:07:23.760794",
   "environment_variables": {},
   "exception": null,
   "input_path": "__notebook__.ipynb",
   "output_path": "__notebook__.ipynb",
   "parameters": {},
   "start_time": "2023-12-04T17:50:26.688291",
   "version": "2.4.0"
  }
 },
 "nbformat": 4,
 "nbformat_minor": 5
}
